{
  "nbformat": 4,
  "nbformat_minor": 0,
  "metadata": {
    "colab": {
      "provenance": [],
      "authorship_tag": "ABX9TyOoG0g83oSFPVdt7BjsnfXr",
      "include_colab_link": true
    },
    "kernelspec": {
      "name": "python3",
      "display_name": "Python 3"
    },
    "language_info": {
      "name": "python"
    }
  },
  "cells": [
    {
      "cell_type": "markdown",
      "metadata": {
        "id": "view-in-github",
        "colab_type": "text"
      },
      "source": [
        "<a href=\"https://colab.research.google.com/github/eliasssantana/algoritmo_guloso/blob/main/Algoritmo_guloso.ipynb\" target=\"_parent\"><img src=\"https://colab.research.google.com/assets/colab-badge.svg\" alt=\"Open In Colab\"/></a>"
      ]
    },
    {
      "cell_type": "code",
      "execution_count": null,
      "metadata": {
        "id": "GlaCgjLtE8ct"
      },
      "outputs": [],
      "source": [
        "estados_abranger = set(['mt', 'wa', 'or', 'id', 'nv', 'ut', 'ca', 'az'])"
      ]
    },
    {
      "cell_type": "code",
      "source": [
        "estacoes = {}"
      ],
      "metadata": {
        "id": "KwPIfzkcFucZ"
      },
      "execution_count": null,
      "outputs": []
    },
    {
      "cell_type": "code",
      "source": [
        "estacoes['kum'] = set(['id', 'nv', 'ut'])\n",
        "estacoes['kdois'] = set(['wa', 'id', 'mt'])\n",
        "estacoes['ktres'] = set(['or', 'nv', 'ca'])\n",
        "estacoes['kquatro'] = set(['nv', 'ut'])\n",
        "estacoes['kcinco'] = set(['ca', 'az'])"
      ],
      "metadata": {
        "id": "uMOpfEtbFxka"
      },
      "execution_count": null,
      "outputs": []
    },
    {
      "cell_type": "code",
      "source": [
        "estacoes_final = set()"
      ],
      "metadata": {
        "id": "li6x3CqZF9pg"
      },
      "execution_count": null,
      "outputs": []
    },
    {
      "cell_type": "code",
      "source": [
        "while estados_abranger:\n",
        "  melhor_estacao = None;\n",
        "  estados_cobertos = set()\n",
        "  for estacao, estados_por_estacao in estacoes.items():\n",
        "    cobertos = estados_abranger & estados_por_estacao\n",
        "    if len(cobertos) > len(estados_cobertos):\n",
        "      melhor_estacao = estacao\n",
        "      estados_cobertos = cobertos\n",
        "  estados_abranger -= estados_cobertos\n",
        "  estacoes_final.add(melhor_estacao)\n"
      ],
      "metadata": {
        "id": "Lheq9YmFKXbe"
      },
      "execution_count": null,
      "outputs": []
    },
    {
      "cell_type": "code",
      "source": [
        "print(estacoes_final)"
      ],
      "metadata": {
        "colab": {
          "base_uri": "https://localhost:8080/"
        },
        "id": "eZLapWUOLRMV",
        "outputId": "35de8db3-0c4f-491a-a2bb-087c01245575"
      },
      "execution_count": null,
      "outputs": [
        {
          "output_type": "stream",
          "name": "stdout",
          "text": [
            "{'kdois', 'kum', 'kcinco', 'ktres'}\n"
          ]
        }
      ]
    }
  ]
}